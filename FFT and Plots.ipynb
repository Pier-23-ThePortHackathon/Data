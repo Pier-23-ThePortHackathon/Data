{
 "cells": [
  {
   "cell_type": "code",
   "execution_count": 2,
   "metadata": {
    "collapsed": true
   },
   "outputs": [],
   "source": [
    "import pandas as pd\n",
    "import matplotlib.pyplot as plt\n",
    "import numpy as np\n",
    "import math\n",
    "import scipy\n",
    "from scipy.signal import butter, lfilter"
   ]
  },
  {
   "cell_type": "code",
   "execution_count": 45,
   "metadata": {
    "collapsed": true
   },
   "outputs": [],
   "source": [
    "def butter_bandpass(lowcut, highcut, fs, order=5):\n",
    "    nyq = 0.5 * fs\n",
    "    low = lowcut / nyq\n",
    "    high = highcut / nyq\n",
    "    b, a = butter(order, [low, high], btype='band')\n",
    "    return b, a\n",
    "\n",
    "\n",
    "def butter_bandpass_filter(data, lowcut, highcut, fs, order=5):\n",
    "    b, a = butter_bandpass(lowcut, highcut, fs, order=order)\n",
    "    y = lfilter(b, a, data)\n",
    "    return y\n",
    "\n",
    "def data_fft(data,Fs=26):\n",
    "    Fs = 26;  # sampling rate\n",
    "    Ts = 1.0/Fs; # sampling interval\n",
    "    n = len(data) # length of the signal\n",
    "    k = np.arange(n)\n",
    "    T = round(n/Fs)\n",
    "    frq = k/T # two sides frequency range\n",
    "    frq = frq[range(round(n/2))] # one side frequency range\n",
    "    t = np.arange(0,n*Ts,Ts)\n",
    "    Y = np.fft.fft(data)/n # fft computing and normalization\n",
    "    Y = Y[range(round(n/2))]\n",
    "    return frq, abs(Y)\n",
    "\n",
    "def data_process(data,lowcut=3, highcut=5, fs=26,order=5):\n",
    "    data = butter_bandpass_filter(data, lowcut, highcut, fs, order)\n",
    "    x, y = data_fft(data,fs)\n",
    "    return x, y\n",
    "    "
   ]
  },
  {
   "cell_type": "markdown",
   "metadata": {},
   "source": [
    "## Import the data"
   ]
  },
  {
   "cell_type": "code",
   "execution_count": 41,
   "metadata": {
    "collapsed": true
   },
   "outputs": [],
   "source": []
  },
  {
   "cell_type": "code",
   "execution_count": 20,
   "metadata": {
    "collapsed": false
   },
   "outputs": [],
   "source": [
    "kitti_data = pd.read_csv(\"/home/brenda/Dropbox/Hackathon/RealData/Kittis wearable 06-01017/kitti.csv\")\n",
    "kitti_data=kitti_data.drop('Unnamed: 0', 1)\n",
    "lars_data = pd.read_csv(\"/home/brenda/Dropbox/Hackathon/RealData/Kittis wearable 06-01017/lars.csv\")\n",
    "lars_data=lars_data.drop('Unnamed: 0', 1)"
   ]
  },
  {
   "cell_type": "code",
   "execution_count": 21,
   "metadata": {
    "collapsed": false
   },
   "outputs": [],
   "source": [
    "kitti_data.columns=['acc_X','acc_Y','acc_Z','gyro_X','gyro_Y','gyro_Z','heading']\n",
    "lars_data.columns=['acc_X','acc_Y','acc_Z','gyro_X','gyro_Y','gyro_Z','heading']"
   ]
  },
  {
   "cell_type": "code",
   "execution_count": 23,
   "metadata": {
    "collapsed": false
   },
   "outputs": [
    {
     "data": {
      "text/html": [
       "<div>\n",
       "<table border=\"1\" class=\"dataframe\">\n",
       "  <thead>\n",
       "    <tr style=\"text-align: right;\">\n",
       "      <th></th>\n",
       "      <th>acc_X</th>\n",
       "      <th>acc_Y</th>\n",
       "      <th>acc_Z</th>\n",
       "      <th>gyro_X</th>\n",
       "      <th>gyro_Y</th>\n",
       "      <th>gyro_Z</th>\n",
       "      <th>heading</th>\n",
       "    </tr>\n",
       "  </thead>\n",
       "  <tbody>\n",
       "    <tr>\n",
       "      <th>0</th>\n",
       "      <td>-0.51</td>\n",
       "      <td>-0.80</td>\n",
       "      <td>0.58</td>\n",
       "      <td>40.76</td>\n",
       "      <td>-21.50</td>\n",
       "      <td>22.28</td>\n",
       "      <td>49.40</td>\n",
       "    </tr>\n",
       "    <tr>\n",
       "      <th>1</th>\n",
       "      <td>-0.18</td>\n",
       "      <td>-0.17</td>\n",
       "      <td>0.47</td>\n",
       "      <td>245.89</td>\n",
       "      <td>-8.29</td>\n",
       "      <td>-80.31</td>\n",
       "      <td>47.43</td>\n",
       "    </tr>\n",
       "    <tr>\n",
       "      <th>2</th>\n",
       "      <td>-0.42</td>\n",
       "      <td>-0.26</td>\n",
       "      <td>0.54</td>\n",
       "      <td>62.48</td>\n",
       "      <td>-64.08</td>\n",
       "      <td>-38.30</td>\n",
       "      <td>47.43</td>\n",
       "    </tr>\n",
       "    <tr>\n",
       "      <th>3</th>\n",
       "      <td>-0.40</td>\n",
       "      <td>-0.31</td>\n",
       "      <td>0.82</td>\n",
       "      <td>39.11</td>\n",
       "      <td>-14.23</td>\n",
       "      <td>12.60</td>\n",
       "      <td>47.43</td>\n",
       "    </tr>\n",
       "    <tr>\n",
       "      <th>4</th>\n",
       "      <td>-0.22</td>\n",
       "      <td>-0.33</td>\n",
       "      <td>0.89</td>\n",
       "      <td>36.77</td>\n",
       "      <td>-29.61</td>\n",
       "      <td>12.40</td>\n",
       "      <td>46.08</td>\n",
       "    </tr>\n",
       "  </tbody>\n",
       "</table>\n",
       "</div>"
      ],
      "text/plain": [
       "   acc_X  acc_Y  acc_Z  gyro_X  gyro_Y  gyro_Z  heading\n",
       "0  -0.51  -0.80   0.58   40.76  -21.50   22.28    49.40\n",
       "1  -0.18  -0.17   0.47  245.89   -8.29  -80.31    47.43\n",
       "2  -0.42  -0.26   0.54   62.48  -64.08  -38.30    47.43\n",
       "3  -0.40  -0.31   0.82   39.11  -14.23   12.60    47.43\n",
       "4  -0.22  -0.33   0.89   36.77  -29.61   12.40    46.08"
      ]
     },
     "execution_count": 23,
     "metadata": {},
     "output_type": "execute_result"
    }
   ],
   "source": [
    "lars_data.head()"
   ]
  },
  {
   "cell_type": "code",
   "execution_count": 34,
   "metadata": {
    "collapsed": true
   },
   "outputs": [],
   "source": [
    "kitti_gyro_X = kitti_data['gyro_X'].values\n",
    "kitti_gyro_Y = kitti_data['gyro_Y'].values\n",
    "kitti_gyro_Z = kitti_data['gyro_Z'].values"
   ]
  },
  {
   "cell_type": "code",
   "execution_count": 35,
   "metadata": {
    "collapsed": true
   },
   "outputs": [],
   "source": [
    "lars_gyro_X = lars_data['gyro_X'].values\n",
    "lars_gyro_Y = lars_data['gyro_Y'].values\n",
    "lars_gyro_Z = lars_data['gyro_Z'].values"
   ]
  },
  {
   "cell_type": "code",
   "execution_count": 36,
   "metadata": {
    "collapsed": true
   },
   "outputs": [],
   "source": [
    "lars_gyro_X_bandpass = butter_bandpass_filter(lars_gyro_X,3,8,26)"
   ]
  },
  {
   "cell_type": "code",
   "execution_count": null,
   "metadata": {
    "collapsed": true
   },
   "outputs": [],
   "source": [
    "data_process "
   ]
  },
  {
   "cell_type": "code",
   "execution_count": 42,
   "metadata": {
    "collapsed": false
   },
   "outputs": [
    {
     "data": {
      "image/png": "[encoded data removed]",
      "text/plain": [
       "<matplotlib.figure.Figure at 0x7f080d43ea90>"
      ]
     },
     "metadata": {},
     "output_type": "display_data"
    }
   ],
   "source": [
    "x, y =data_fft(lars_gyro_X_bandpass)\n",
    "plt.plot(x,y,'red')\n",
    "plt.show()"
   ]
  },
  {
   "cell_type": "code",
   "execution_count": 49,
   "metadata": {
    "collapsed": true
   },
   "outputs": [],
   "source": [
    "x, y = data_process(lars_gyro_Z)\n",
    "plt.plot(x,y,'red')\n",
    "plt.show()"
   ]
  },
  {
   "cell_type": "code",
   "execution_count": 57,
   "metadata": {
    "collapsed": false
   },
   "outputs": [
    {
     "data": {
      "image/png": "[encoded data removed]",
      "text/plain": [
       "<matplotlib.figure.Figure at 0x7f080a0b49e8>"
      ]
     },
     "metadata": {},
     "output_type": "display_data"
    }
   ],
   "source": [
    "x1, y1 = data_process(lars_gyro_Y)\n",
    "x2, y2 = data_process(kitti_gyro_Y)\n",
    "plt.plot(x1,y1,'red')\n",
    "plt.plot(x2,y2,'green')\n",
    "plt.show()"
   ]
  },
  {
   "cell_type": "code",
   "execution_count": null,
   "metadata": {
    "collapsed": true
   },
   "outputs": [],
   "source": []
  }
 ],
 "metadata": {
  "kernelspec": {
   "display_name": "Python [default]",
   "language": "python",
   "name": "python3"
  }
 },
 "nbformat": 4,
 "nbformat_minor": 1
}
